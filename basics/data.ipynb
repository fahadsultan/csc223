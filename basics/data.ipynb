{
 "cells": [
  {
   "attachments": {},
   "cell_type": "markdown",
   "metadata": {},
   "source": [
    "---\n",
    "title: Data\n",
    "toc: true\n",
    "numbered: true\n",
    "---\n",
    "\n",
    "\n",
    "<img src=\"https://lh4.googleusercontent.com/xRzzFQ_aSMaMqRn81S85qXKhQNpFKJtZSbXaPuwnJxXnBz-gku-0MtO5k5DSNu2kKU6HHXWNh1YjCK2VodIQ4BEu1M6jTKY7wCiHDycNPwZLxsjcnzYqRmU_As0arxTuRmylfRwi\" align=\"right\" width=\"35%\" style=\"filter:invert(1)\">"
   ]
  },
  {
   "attachments": {},
   "cell_type": "markdown",
   "metadata": {},
   "source": [
    "\n",
    "Data is to computer science what chemicals are to chemistry or organisms are to biology.\n",
    "\n",
    "Data is the raw material that we process, analyze, and transform into insight and knowledge. \n",
    "\n",
    "In this section, we will learn about how to represent elementary data in Python. Later, we will learn about how to represent more complex data structures.\n",
    "\n",
    "<hr/>"
   ]
  },
  {
   "attachments": {},
   "cell_type": "markdown",
   "metadata": {},
   "source": [
    "## Values and Types\n",
    "\n",
    "* The atomic indivisible unit of data in computer programming is called a **value**. \n",
    "\n",
    "* Values are the most basic things that a computer program manipulates or calculates.\n",
    "\n",
    "For example, the number `42` is a value. So is `\"Hello World!\"`.\n",
    "\n",
    "* Each value belongs to a **type**.\n",
    "\n",
    "* The type of a value determines its interpretation by the computer and the operations that can be performed on it.\n",
    "\n",
    "For example, the value `42` is of type `int` (short for integer) and the value `\"Hello World!\"` is of type `str` (short for string, so-called because it contains a _string_ of letters)."
   ]
  },
  {
   "cell_type": "markdown",
   "metadata": {},
   "source": [
    "Python comes with the following built-in data types:\n",
    "\n",
    "::: {.panel-tabset}\n",
    "\n",
    "## Java\n",
    "\n",
    "Java comes with the following built-in data types:\n",
    "\n",
    "| Java Data Type | Description | Category | Mutable | Example Values |\n",
    "| :----------- | -----------: | -----------: | -----------: |-----------: |\n",
    "| `byte` | 8-bit signed integer | Numeric | ❌ | `42`, `0`, `-1`,  `100` |\n",
    "| `short` | 16-bit signed integer | Numeric | ❌ | `42`, `0`, `-1`,  `100` |\n",
    "| `int` | 32-bit signed integer | Numeric | ❌ | `42`, `0`, `-1`,  `100` |\n",
    "| `long` | 64-bit signed integer | Numeric | ❌ | `42`, `0`, `-1`,  `100` |\n",
    "| `float` | 32-bit floating point number | Numeric | ❌ | `3.14159`, `0.0`, `-1.0`, `1.0e10` |\n",
    "| `double` | 64-bit floating point number | Numeric | ❌ | `3.14159`, `0.0`, `-1.0`, `1.0e10` |\n",
    "| `char` | 16-bit Unicode character | Text | ❌ | `'a'`, `'b'`, `'c'` |\n",
    "| `boolean` | Boolean value | Boolean | ❌ | `true`, `false` |\n",
    "| `String` | Sequence of characters | Text | ❌ | `\"Hello World!\"`, `\"42\"` |\n",
    "| `Array` | Ordered mutable sequences of values | Sequence | ✅ | `[1, 2, 3]`, `[\"Hello\", \"World\"]` |\n",
    "| `List` | Ordered mutable sequences of values | Sequence | ✅ | `[1, 2, 3]`, `[\"Hello\", \"World\"]` |\n",
    "| `Map` | Unordered mapping of keys to values | Mapping | ✅ | `{\"a\": 1, \"b\": 2}` |\n",
    "| `Set` | Unordered collection of unique values | Set | ✅ | `{1, 2, 3}` |\n",
    "| `None` | Special type indicating no value | NoneType | ❌ | `null` |\n",
    "\n",
    "<hr/>\n",
    "\n",
    "## Python\n",
    "\n",
    "| Python Data Type | Description | Category | Mutable | Example Values |\n",
    "| :----------- | -----------: | -----------: | -----------: |-----------: |\n",
    "| `int` | Integers | Numeric | ❌ | `42`, `0`, `-1`,  `10000000000 ` |\n",
    "| `float` | Floating point numbers | Numeric | ❌ | `3.14159`, `0.0`, `-1.0`, `1.0e10` |\n",
    "| `complex` | Complex numbers | Numeric | ❌ | `3 + 4j`, `1j` |\n",
    "| `bool` | Boolean values | Boolean | ❌ | `True`, `False` |\n",
    "| `str` | String values | Text | ❌ | `\"Hello World!\"`, `\"42\"` |\n",
    "| `list` | Ordered mutable sequences of values | Sequence | ✅ | `[1, 2, 3]`, `[\"Hello\", \"World\"]` |\n",
    "| `tuple` | Ordered immutable sequences of values | Sequence | ❌ | `(1, 2, 3)`, `(\"Hello\", \"World\")` |\n",
    "| `range` | Immutable sequence of numbers | Sequence | ❌ | `range(10)`, `range(1, 10, 2)` |\n",
    "| `dict` | Unordered mapping of keys to values | Mapping | ✅ | `{\"a\": 1, \"b\": 2}` |\n",
    "| `set` | Unordered collection of unique values | Set | ✅ | `{1, 2, 3}` |\n",
    "| `frozenset` | Immutable set | Set | ❌ | `frozenset({1, 2, 3})` |\n",
    "| `bytes` | Sequence of bytes | Binary | ❌ | `b\"Hello World!\"` |\n",
    "| `bytearray` | Mutable sequence of bytes | Binary | ✅ | `bytearray(b\"Hello World!\")` |\n",
    "| `memoryview` | Memory view of bytes | Binary | ❌ | `memoryview(b\"Hello World!\")` |\n",
    "| `NoneType` | Special type indicating no value | NoneType | ❌ | `None` |\n",
    "\n",
    "\n",
    ":::"
   ]
  },
  {
   "attachments": {},
   "cell_type": "markdown",
   "metadata": {},
   "source": [
    "## Variables\n",
    "\n",
    "One of the most powerful features of a programming language is the ability to manipulate **variables**.  \n",
    "\n",
    "Similar to algebra, variables in computer programming are **names that refer to values**.\n",
    "\n",
    "In algebra, the following statement declares that the variable `x` has the value `42`:\n",
    "\n",
    "$$x = 42$$\n",
    "\n",
    "In Python, the following statement declares that the variable `x` has the value `42`:\n",
    "\n",
    "```python\n",
    "x = 42\n",
    "```\n",
    "\n",
    "In Python, a variable is a just a name. Values are somewhere else, and a variable refers to a value. Multiple names can refer to the same value. Python calls whatever is needed to refer to a value a reference. Assigning to a variable (or object field, or ...) simply makes it refer to another value. The whole model of storage locations does not apply to Python, the programmer never handles storage locations for values. All he stores and shuffles around are Python references, and those are not values in Python, so they cannot be target of other Python references.\n",
    "\n",
    "Variables are the first means of abstraction in computer programming. They allow us to abstract away the details of the value and refer to computations in more general terms.\n",
    "\n",
    "**Rules for Naming Variables:**\n",
    "\n",
    "In Python, variable names can be arbitrarily long. They can contain both letters and numbers, but they have to begin with a letter or an underscore (variable names can not start with a number).\n",
    "\n",
    "* _**Variable Names must be descriptive!**_\n",
    "\n",
    "* A variable name **must start with a letter or the underscore character**\n",
    "\n",
    "* A variable name **cannot start with a number**\n",
    "\n",
    "* A variable name can **only contain alpha-numeric characters and underscores** (`A-z`, `0-9`, and `_` )\n",
    "\n",
    "* Variable names are **case-sensitive** (`age`, `Age` and `AGE` are three different variables)\n",
    "\n",
    "* In Python, the convention is to **_NOT_ use upper case letters** anywhere in the name. In case of multi-word names, use `_` .\n",
    "\n",
    "\n",
    "## Dynamic and Strong Typing\n",
    "\n",
    "You (and Python) can identify strings because they are enclosed in quotation marks `\"`.\n",
    "\n",
    "Python is a **dynamically typed** language, which means that the type of a value is inferred at runtime (as opposed to compile time) based on the value.\n",
    "\n",
    "\n",
    "Python is a **dynamically typed** language, which means two things:\n",
    "\n",
    "1. The type of a value is inferred at runtime (as opposed to compile time) based on the value\n",
    "2. The same variable can be assigned values of different types at different times. \n",
    "\n",
    "<center><img src=\"https://res.cloudinary.com/practicaldev/image/fetch/s--i1yqfSl1--/c_imagga_scale,f_auto,fl_progressive,h_900,q_auto,w_1600/https://miro.medium.com/max/1400/1%2ABddwVWW6hFU0miT9DCbUWQ.png\" width=\"100%\" style=\"filter:invert(1)\" ></center>\n",
    "\n",
    "<!-- ```{figure} https://res.cloudinary.com/practicaldev/image/fetch/s--i1yqfSl1--/c_imagga_scale,f_auto,fl_progressive,h_900,q_auto,w_1600/https://miro.medium.com/max/1400/1%2ABddwVWW6hFU0miT9DCbUWQ.png\n",
    "---\n",
    "width: 50%\n",
    "name: dynamic-strong-typing\n",
    "---\n",
    "Different programming languages have different approaches to types. Python is a **dynamically typed** and **strongly typed** programming language. \n",
    "``` -->\n",
    "\n",
    "Python is also a **strongly typed** language, which means that every \n",
    "\n",
    "The `=` symbol in Python is called the **assignment operator**. It allows us to creates new variables (names) and _assign_ (refer) them values. \n",
    "\n",
    "Note that the assignment operator assigns the value on the right to the variable on the left. In other words, the directionality of assignment in `x = 42` is  $x \\leftarrow 42$.\n",
    "\n",
    "Variables can naturally be assigned different values at different times.\n",
    "\n",
    "In fact, the same variable can be assigned values of different types at different times.\n"
   ]
  },
  {
   "cell_type": "code",
   "execution_count": null,
   "metadata": {},
   "outputs": [],
   "source": [
    "message = \"What's up, Doc?\"\n",
    "n = 17\n",
    "pi = 3.14159"
   ]
  },
  {
   "cell_type": "markdown",
   "metadata": {},
   "source": [
    "This example makes three assignments. The first assigns the string `\"What's up, Doc?\"` to a new variable named `message`. The second gives the integer `17` to `n`, and the third gives the floating-point number `3.14159` to `pi`.\n",
    "\n",
    "The **assignment operator**, `=`, should not be confused with an equals sign (even though it uses the same character). Assignment operators link a _name_, on the left hand side of the operator, with a value, on the right hand side. This is why you will get an error if you enter:\n",
    "\n",
    "```python\n",
    "\n",
    "17 = n # Error: can't assign to literal\n",
    "```\n",
    "\n",
    "A common way to represent variables on paper is to write the name with an arrow pointing to the variable’s value. This kind of figure is called a **state diagram** because it shows what state each of the variables is in (think of it as the variable’s state of mind). This diagram shows the result of the assignment statements\n",
    "\n",
    "<img src=\"https://www.cs.swarthmore.edu/courses/CS21Book/_images/state.png\">\n",
    "\n",
    "The print statement also works with variables.\n"
   ]
  },
  {
   "cell_type": "code",
   "execution_count": null,
   "metadata": {},
   "outputs": [],
   "source": [
    "print(message), print(n), print(pi)"
   ]
  },
  {
   "cell_type": "markdown",
   "metadata": {},
   "source": [
    "In each case the result is the value of the variable. Variables also have types; again, we can ask the interpreter what they are."
   ]
  },
  {
   "cell_type": "code",
   "execution_count": null,
   "metadata": {},
   "outputs": [],
   "source": [
    "type(message), type(n), type(pi)"
   ]
  },
  {
   "cell_type": "markdown",
   "metadata": {},
   "source": [
    "The type of a variable is the type of the value it refers to."
   ]
  },
  {
   "attachments": {},
   "cell_type": "markdown",
   "metadata": {},
   "source": []
  },
  {
   "cell_type": "code",
   "execution_count": null,
   "metadata": {},
   "outputs": [],
   "source": [
    "ten_percent = 3\n",
    "ten_percent"
   ]
  },
  {
   "cell_type": "code",
   "execution_count": null,
   "metadata": {},
   "outputs": [],
   "source": [
    "Ten_percent = 10\n",
    "Ten_percent"
   ]
  },
  {
   "cell_type": "code",
   "execution_count": null,
   "metadata": {},
   "outputs": [],
   "source": [
    "TEN_PERCENT = 10000\n",
    "TEN_PERCENT"
   ]
  },
  {
   "cell_type": "code",
   "execution_count": null,
   "metadata": {},
   "outputs": [],
   "source": [
    "ten_percent = 5\n",
    "ten_percent"
   ]
  },
  {
   "cell_type": "code",
   "execution_count": null,
   "metadata": {},
   "outputs": [],
   "source": [
    "age = 2\n",
    "age"
   ]
  },
  {
   "cell_type": "code",
   "execution_count": null,
   "metadata": {},
   "outputs": [],
   "source": [
    "Age = 20\n",
    "Age"
   ]
  },
  {
   "cell_type": "code",
   "execution_count": null,
   "metadata": {},
   "outputs": [],
   "source": [
    "AGE = 200\n",
    "AGE"
   ]
  },
  {
   "cell_type": "markdown",
   "metadata": {},
   "source": [
    "Which of the following variable names would throw a Syntax Errox?"
   ]
  },
  {
   "cell_type": "code",
   "execution_count": null,
   "metadata": {},
   "outputs": [],
   "source": [
    "10_percent = 27.03 / 10\n",
    "\n",
    "ten_percent = 27.03 / 10\n",
    "ten_percent\n",
    "\n",
    "_10_percent = 27.03 / 10\n",
    "_10_percent\n",
    "\n",
    "20_percent = 27.03 / 10\n",
    "\n",
    "twenty_percent = 27.03 / 10\n",
    "\n",
    "twenty_% = 27.03 / 10"
   ]
  },
  {
   "cell_type": "markdown",
   "metadata": {},
   "source": [
    "<hr/>"
   ]
  },
  {
   "attachments": {},
   "cell_type": "markdown",
   "metadata": {},
   "source": [
    "**Reserved words**\n",
    "\n",
    "In Python, there are 33 reserved words. These are words that have special meaning to Python. You cannot use reserved words as variable names."
   ]
  },
  {
   "cell_type": "markdown",
   "metadata": {},
   "source": [
    "`False`, `def`, `if`, `raise`,\n",
    "`None`,\t`del`,\t`import`,\t`return`,\n",
    "`True`,\t`elif`\t,`in`,\t`try`,\n",
    "`and`,\t`else`,\t`is`,\t`while`,\n",
    "`as`,\t`except`,\t`lambda`, `with`\n",
    "`assert`,\t`finally`,\t`nonlocal`,\t`yield`\n",
    "`break`,\t`for`,\t`not`\t\n",
    "`class`,\t`from`,\t`or`,\t\n",
    "`continue`,\t`global`,\t`pass`"
   ]
  },
  {
   "cell_type": "markdown",
   "metadata": {},
   "source": [
    "* A programming language is more than just a means for instructing a computer to perform tasks. \n",
    "\n",
    "\n",
    "* It also serves as a <u>**framework within which we organize our ideas**</u> about computational processes. \n",
    "\n",
    "\n",
    "* Programs serve to communicate those ideas among the members of a programming community. \n",
    "\n",
    "\n",
    "* Thus, let me re-emphasize **programs must be written for people to read, and only incidentally for machines to execute.**"
   ]
  },
  {
   "attachments": {},
   "cell_type": "markdown",
   "metadata": {},
   "source": [
    "<hr/>"
   ]
  },
  {
   "cell_type": "markdown",
   "metadata": {},
   "source": [
    "* You can get the data type of any variable using the built-in **`type()`** function\n",
    "\n",
    "* Python programming language is both:\n",
    " 1. **Strongly typed**:\n",
    "       * All variables have a type \n",
    "       * The type matters when performing operations on a variable. \n",
    "\n",
    " 2. **Dynamically typed**:\n",
    "    * In Python, the data type is set when you assign a value to a variable (during runtime)."
   ]
  },
  {
   "attachments": {},
   "cell_type": "markdown",
   "metadata": {},
   "source": [
    "<!-- ## _Glossary_\n",
    "\n",
    "```{glossary}\n",
    "\n",
    "value\n",
    "    The most basic thing a program works with. Values include numbers (like `42` or `3.14159`) and strings (like `\"Hello World!\"`).\n",
    "\n",
    "type\n",
    "    A category of values. The types we have seen so far are integers (type `int`), floating-point numbers (type `float`), and strings (type `str`).\n",
    "\n",
    "variable\n",
    "    A name that refers to a value.\n",
    "\n",
    "\n",
    "Strongly typed\n",
    "    All variables have a type and the type matters when performing operations on a variable. \n",
    "\n",
    "Dynamically typed\n",
    "    The data type is set when you assign a value to a variable (during runtime).\n",
    "\n",
    "Weakly typed\n",
    "    The data type is set when you assign a value to a variable (during compile time).\n",
    "\n",
    "Static typed\n",
    "    The data type is set when you assign a value to a variable (during compile time).\n",
    "\n",
    "``` -->"
   ]
  },
  {
   "attachments": {},
   "cell_type": "markdown",
   "metadata": {},
   "source": [
    "<!-- <hr/>\n",
    "\n",
    "## _Exercises_\n",
    "\n",
    "1. <i>Which of the following are valid variable names in Python? Why or why not?\n",
    "\n",
    "| | Variable Name | Valid? | Why or Why Not? |\n",
    "| :----------- | :----------- | -----------: | -----------: |\n",
    "| i. | `age` | | |\n",
    "| ii. |  `Age` | | |\n",
    "| iii. |  `AGE` | | |\n",
    "| iv. |  `age_` | | |\n",
    "| v. |  `age!` | | |\n",
    "| vi. |  `age@` | | |\n",
    "| vii. |  `age$` | | |\n",
    "| viii. |  `False` | | |\n",
    "| ix. |  `false` | | |\n",
    "| x. |  `while` | | |\n",
    "| xi. |  `_while` | | |\n",
    "| xii. |  `while_` | | |\n",
    "| xiii. |  `def` | | |\n",
    "| xiv. |  `if` | | |\n",
    "| xv. |  `elif` | | |\n",
    "| xvi. |  `else` | | |\n",
    "| xvii. |  `return` | | |\n",
    "| xviii. |  `None` | | |\n",
    "| xix. |  `none` | | |\n",
    "| xx. |  `NoneType` | | |\n",
    "| xxi. |  `none_type` | | |\n",
    "| xxii. |  `none-type` | | |\n",
    "\n",
    "</i>\n",
    "\n",
    "<br/>\n",
    "<hr/> -->"
   ]
  }
 ],
 "metadata": {
  "language_info": {
   "name": "python"
  },
  "orig_nbformat": 4
 },
 "nbformat": 4,
 "nbformat_minor": 2
}
