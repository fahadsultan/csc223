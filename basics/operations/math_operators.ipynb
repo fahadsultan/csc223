{
 "cells": [
  {
   "attachments": {},
   "cell_type": "markdown",
   "metadata": {},
   "source": [
    "---\n",
    "title: Mathematical Operators\n",
    "toc: true\n",
    "---\n",
    "\n"
   ]
  },
  {
   "attachments": {},
   "cell_type": "markdown",
   "metadata": {},
   "source": [
    "## Arithmetic Operators\n",
    "\n",
    "The following table lists the arithmetic operators in Python. The first four operators are the basic arithmetic operators. The last two operators are the floor division and modulo operators, respectively.\n",
    "\n",
    "| Operator | Description | Example | Result |\n",
    "| --- | --- | --- | --- |\n",
    "| `+` | Addition | `1 + 2` | `3` |\n",
    "| `-` | Subtraction | `1 - 2` | `-1` |\n",
    "| `*` | Multiplication | `1 * 2` | `2` |\n",
    "| `/` | Division | `1 / 2` | `0.5` |\n",
    "| `//` | Floor Division | `1 // 2` | `0` |\n",
    "| `%` | Modulo | `1 % 2` | `1` |\n"
   ]
  },
  {
   "attachments": {},
   "cell_type": "markdown",
   "metadata": {},
   "source": [
    "## Boolean Operators"
   ]
  },
  {
   "cell_type": "markdown",
   "metadata": {},
   "source": [
    "These operators return `True` or `False` (i.e. boolean data type). \n",
    "\n",
    "| Operator      | Description   |Example.      |\n",
    "| :-----------  | :-----------: |:-----------: |\n",
    "| ==  |  Returns `True` if left hand operand is equal to right hand operand. Otherwise, returns `False`  | `a+b == b+a` |\n",
    "| != |  Returns `True` if left hand operand is _NOT_ equal to  right hand operand. Otherwise, returns `False`.  | `a*b != b/a`|\n",
    "| < |  Returns `True` if left hand operand is less than right hand operand. Otherwise, returns `False`.  | `b/a < b`|\n",
    "| > |  Returns `True` if left hand operand is greater than right hand operand. Otherwise, returns `False`.  | `a*b > b`|\n",
    "| <= |  Returns `True` if left hand operand is less than or equal to right hand operand. Otherwise, returns `False`.  | `a-b <= a`|\n",
    "| >= |  Returns `True` if left hand operand is greater than or equal to right hand operand. Otherwise, returns `False`.  | `a*b >= b*a`|"
   ]
  },
  {
   "cell_type": "code",
   "execution_count": null,
   "metadata": {},
   "outputs": [],
   "source": [
    "a = 2\n",
    "b = 10"
   ]
  },
  {
   "cell_type": "code",
   "execution_count": null,
   "metadata": {},
   "outputs": [],
   "source": [
    "a+b == b+a"
   ]
  },
  {
   "cell_type": "code",
   "execution_count": null,
   "metadata": {},
   "outputs": [],
   "source": [
    "a+b != a*b"
   ]
  },
  {
   "cell_type": "code",
   "execution_count": null,
   "metadata": {},
   "outputs": [],
   "source": [
    "a**2 == a*2"
   ]
  },
  {
   "cell_type": "code",
   "execution_count": null,
   "metadata": {},
   "outputs": [],
   "source": [
    "a+b < a+b"
   ]
  },
  {
   "cell_type": "code",
   "execution_count": null,
   "metadata": {},
   "outputs": [],
   "source": [
    "a+b <= a+b"
   ]
  },
  {
   "attachments": {},
   "cell_type": "markdown",
   "metadata": {},
   "source": [
    "### Comparison Operators\n",
    "\n",
    "The following table lists the comparison operators in Python. These operators compare two operands and evaluate to either `True` or `False`.\n",
    "\n",
    "| Operator | Description | Example | Result |\n",
    "| --- | --- | --- | --- |\n",
    "| `==` | Equal To | `1 == 2` | `False` |\n",
    "| `!=` | Not Equal To | `1 != 2` | `True` |\n",
    "| `>` | Greater Than | `1 > 2` | `False` |\n",
    "| `>=` | Greater Than or Equal To | `1 >= 2` | `False` |\n",
    "| `<` | Less Than | `1 < 2` | `True` |\n",
    "| `<=` | Less Than or Equal To | `1 <= 2` | `True` |\n",
    "\n",
    "### Logical Operators\n",
    "\n",
    "The following table lists the logical operators in Python. These operators combine two or more boolean expressions and evaluate to either `True` or `False`.\n",
    "\n",
    "| Operator | Description | Example | Result |\n",
    "| --- | --- | --- | --- |\n",
    "| `and` | Logical AND | `True and False` | `False` |\n",
    "| `or` | Logical OR | `True or False` | `True` |\n",
    "| `not` | Logical NOT | `not True` | `False` |\n",
    "\n",
    "\n",
    "### Identity Operators\n",
    "\n",
    "The following table lists the identity operators in Python. These operators compare the memory addresses of two operands and evaluate to either `True` or `False`.\n",
    "\n",
    "| Operator | Description | Example | Result |\n",
    "| --- | --- | --- | --- |\n",
    "| `is` | Identity | `1 is 1` | `True` |\n",
    "| `is not` | Non-Identity | `1 is not 1` | `False` |\n",
    "\n",
    "### Membership Operators\n",
    "\n",
    "The following table lists the membership operators in Python. These operators evaluate to either `True` or `False` depending on whether a value is a member of a sequence.\n",
    "\n",
    "| Operator | Description | Example | Result |\n",
    "| --- | --- | --- | --- |\n",
    "| `in` | Membership | `1 in [1, 2, 3]` | `True` |\n",
    "| `not in` | Non-Membership | `1 not in [1, 2, 3]` | `False` |\n",
    "\n"
   ]
  },
  {
   "attachments": {},
   "cell_type": "markdown",
   "metadata": {},
   "source": [
    "## Assignment Operators\n",
    "\n",
    "We have already seen the assignment operator `=` in the previous sections. \n",
    "\n",
    "The assignment operator has many variations that combine assignment with another operator (primarily arithmetic operators).\n",
    "\n",
    "The following table lists the assignment operators in Python. These operators assign a value to a variable.\n",
    "\n",
    "| Operator | Description | Example | Result |\n",
    "| --- | --- | --- | --- |\n",
    "| `=` | Assignment | `x = 1` | `1` |\n",
    "| `+=` | Addition Assignment | `x += 1` | `2` |\n",
    "| `-=` | Subtraction Assignment | `x -= 1` | `1` |\n",
    "| `*=` | Multiplication Assignment | `x *= 2` | `2` |\n",
    "| `/=` | Division Assignment | `x /= 2` | `1` |\n",
    "| `//=` | Floor Division Assignment | `x //= 2` | `0` |\n",
    "| `%=` | Modulo Assignment | `x %= 2` | `1` |\n",
    "| `&=` | Bitwise AND Assignment | `x &= 0b101` | `0b101` |"
   ]
  },
  {
   "attachments": {},
   "cell_type": "markdown",
   "metadata": {},
   "source": [
    "## Bitwise Operators\n",
    "\n",
    "The following table lists the bitwise operators in Python. These operators combine two or more bit patterns and evaluate to a new bit pattern.\n",
    "\n",
    "| Operator | Description | Example | Result |\n",
    "| --- | --- | --- | --- |\n",
    "| `&` | Bitwise AND | `0b101 & 0b110` | `0b100` |\n",
    "| `\\|` | Bitwise OR | `0b101 \\| 0b110` | `0b111` |\n",
    "| `^` | Bitwise XOR | `0b101 ^ 0b110` | `0b011` |\n",
    "| `~` | Bitwise NOT | `~0b101` | `0b010` |\n",
    "| `<<` | Bitwise Left Shift | `0b101 << 1` | `0b1010` |\n",
    "| `>>` | Bitwise Right Shift | `0b101 >> 1` | `0b10` |"
   ]
  },
  {
   "attachments": {},
   "cell_type": "markdown",
   "metadata": {},
   "source": [
    "\n",
    "<br/>\n",
    "<hr/>\n",
    "\n",
    "## _Glossary_\n",
    "\n",
    "```{glossary}\n",
    "\n",
    "arithmetic operator\n",
    "    An operator that performs a mathematical operation on two operands.\n",
    "\n",
    "assignment operator\n",
    "    An operator that assigns a value to a variable.\n",
    "\n",
    "bitwise operator\n",
    "    An operator that performs a bitwise operation on two or more bit patterns.\n",
    "\n",
    "boolean operator\n",
    "    An operator that returns a boolean value.\n",
    "\n",
    "comparison operator\n",
    "    An operator that compares two operands and evaluates to either `True` or `False`.\n",
    "\n",
    "floor division\n",
    "    An operator that performs integer division and returns the floor of the result.\n",
    "\n",
    "identity operator\n",
    "    An operator that compares the memory addresses of two operands and evaluates to either `True` or `False`.\n",
    "\n",
    "logical operator\n",
    "    An operator that combines two or more boolean expressions and evaluates to either `True` or `False`.\n",
    "\n",
    "modulo\n",
    "    An operator that performs integer division and returns the remainder of the result.\n",
    "\n",
    "```\n",
    "\n",
    "<br/>\n",
    "<hr/>\n",
    "\n",
    "## _Exercise_\n",
    "\n",
    "1. What is the result of the following expression?\n",
    "\n",
    "| | Expression | Result |\n",
    "| --- | --- | --- |\n",
    "| i. | `1 + 2 * 3` | |\n",
    "| ii. | `(1 + 2) * 3` | |\n",
    "| iii. | `1 + 2 * 3 - 4 / 5` | |\n",
    "| iv. | `1 + 2 * (3 - 4) / 5` | |\n",
    "| v. | `1 + 2 * 3 - 4 / 5 ** 6` | |\n",
    "| vi. | `1 + 2 * 3 - 4 / 5 ** 6 % 7` | |\n",
    "| vii. | `1 + 2 * 3 - 4 / 5 ** 6 % 7 // 8` | |\n"
   ]
  }
 ],
 "metadata": {
  "language_info": {
   "name": "python"
  },
  "orig_nbformat": 4
 },
 "nbformat": 4,
 "nbformat_minor": 2
}
