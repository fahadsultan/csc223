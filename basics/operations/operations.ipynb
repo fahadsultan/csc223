{
 "cells": [
  {
   "attachments": {},
   "cell_type": "markdown",
   "metadata": {},
   "source": [
    "---\n",
    "toc: true\n",
    "---\n",
    "\n",
    "# Operations\n",
    "\n",
    "\n",
    "## Expressions, Statements, and Programs\n",
    "\n",
    "An **expression** is a combination of values, variables, and operators. A value all by itself is considered an expression, and so is a variable, so the following are all legal expressions: `42`, `x`, `x+1`\n",
    "\n",
    "<!-- \n",
    "```python\n",
    "42\n",
    "x\n",
    "x + 1\n",
    "``` -->\n",
    "\n",
    "When you type an expression at the prompt, the interpreter **evaluates** it, which means that it finds the value of the expression. In this example, `x + 1`, the interpreter adds one to the current value of `x`. But it doesn’t display the value unless you tell it to:\n"
   ]
  },
  {
   "cell_type": "code",
   "execution_count": null,
   "metadata": {},
   "outputs": [],
   "source": [
    "x = 42\n",
    "x + 1"
   ]
  },
  {
   "attachments": {},
   "cell_type": "markdown",
   "metadata": {},
   "source": [
    "A **statement** is a unit of code that has an effect, like creating a variable or displaying a value."
   ]
  },
  {
   "cell_type": "code",
   "execution_count": null,
   "metadata": {},
   "outputs": [],
   "source": [
    "x = 42\n",
    "print(x)"
   ]
  },
  {
   "attachments": {},
   "cell_type": "markdown",
   "metadata": {},
   "source": [
    "The first line is an **assignment statement** that gives a value to `x`. The second line is a **print statement** that displays the value of `x`.\n",
    "\n",
    "The types of statements we have seen so far are assignments and print statements. Other types of statements include: \n",
    "\n",
    "- **Import statements**: Import a module.\n",
    "- **If statements**: Execute code depending on the value of a condition.\n",
    "- **For statements**: Execute code for each item in a sequence.\n",
    "- **While statements**: Execute code while a condition is true.\n",
    "- **Def statements**: Define a function.\n",
    "- **Return statements**: Exit a function and return a value.\n",
    "- **Break statements**: Exit a loop.\n",
    "- **Continue statements**: Skip the rest of the loop body.\n",
    "\n",
    "When you type a statement, the interpreter **executes** it, which means that it does whatever the statement says. In general, statements don’t have values.\n",
    "\n",
    "A **program** is a sequence of statements. If there is more than one statement, the results appear one at a time as the statements execute.\n",
    "\n",
    "For example, the script below contains three statements:"
   ]
  },
  {
   "cell_type": "code",
   "execution_count": null,
   "metadata": {},
   "outputs": [],
   "source": [
    "x = 42\n",
    "print(x)\n",
    "x = x + 1"
   ]
  },
  {
   "attachments": {},
   "cell_type": "markdown",
   "metadata": {},
   "source": [
    "The output of this program is `42`. The second line displays the value of `x`, which is `42`. The third line increases the value of `x` by one. But it doesn’t display the value."
   ]
  }
 ],
 "metadata": {
  "kernelspec": {
   "display_name": "Python 3",
   "language": "python",
   "name": "python3"
  },
  "language_info": {
   "codemirror_mode": {
    "name": "ipython",
    "version": 3
   },
   "file_extension": ".py",
   "mimetype": "text/x-python",
   "name": "python",
   "nbconvert_exporter": "python",
   "pygments_lexer": "ipython3",
   "version": "3.9.6"
  },
  "orig_nbformat": 4
 },
 "nbformat": 4,
 "nbformat_minor": 2
}
