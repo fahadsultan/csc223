{
 "cells": [
  {
   "attachments": {},
   "cell_type": "markdown",
   "id": "bbaccea4",
   "metadata": {
    "slideshow": {
     "slide_type": "slide"
    }
   },
   "source": [
    "---\n",
    "title: \"Precedence, Associativity and Type Conversion\"\n",
    "toc: true\n",
    "---\n",
    "\n",
    "\n",
    "```{important}\n",
    "This page is <span style=\"color:red\">**under construction**</span>. All or part of the <span style=\"color:red\">**content may be incomplete or incorrect**</span>.\n",
    "``` "
   ]
  },
  {
   "attachments": {},
   "cell_type": "markdown",
   "id": "c63b23c9",
   "metadata": {},
   "source": [
    "## Operator Precedence\n",
    "\n",
    "The following table lists the operator precedence in Python. Operators with higher precedence are evaluated before operators with lower precedence. Operators with the same precedence are evaluated from left to right.\n",
    "\n",
    "| Operator | Description |\n",
    "| --- | --- |\n",
    "| `()` | Parentheses |\n",
    "| `**` | Exponentiation |\n",
    "| `~` | Bitwise NOT |\n",
    "| `*`, `/`, `//`, `%` | Multiplication, Division, Floor Division, Modulo |\n",
    "| `+`, `-` | Addition, Subtraction |\n",
    "| `<<`, `>>` | Bitwise Left Shift, Bitwise Right Shift |\n",
    "| `&` | Bitwise AND |\n",
    "| `^` | Bitwise XOR |\n",
    "| `|` | Bitwise OR |\n",
    "| `==`, `!=`, `>`, `>=`, `<`, `<=`, `is`, `is not`, `in`, `not in` | Comparison, Identity, Membership |\n",
    "| `not` | Logical NOT |\n",
    "| `and` | Logical AND |\n",
    "| `or` | Logical OR |\n",
    "| `=` | Assignment |\n",
    "| `+=`, `-=`, `*=`, `/=`, `//=`, `%=`, `&=`, `^=`, `|=`, `<<=`, `>>=` | Assignment Operators |\n",
    "\n",
    "## Operator Associativity\n",
    "\n",
    "The following table lists the operator associativity in Python. Operators with left associativity are evaluated from left to right. Operators with right associativity are evaluated from right to left.\n",
    "\n",
    "| Operator | Associativity |\n",
    "| --- | --- |\n",
    "| `**` | Right |\n",
    "| `~` | Right |\n",
    "| `*`, `/`, `//`, `%` | Left |\n",
    "| `+`, `-` | Left |\n",
    "| `<<`, `>>` | Left |\n",
    "| `&` | Left |\n",
    "| `^` | Left |\n",
    "| `|` | Left |\n",
    "| `==`, `!=`, `>`, `>=`, `<`, `<=`, `is`, `is not`, `in`, `not in` | Left |\n",
    "| `not` | Right |\n",
    "| `and` | Left |\n",
    "| `or` | Left |\n",
    "| `=` | Right |\n",
    "| `+=`, `-=`, `*=`, `/=`, `//=`, `%=`, `&=`, `^=`, `|=`, `<<=`, `>>=` | Right |\n"
   ]
  },
  {
   "cell_type": "markdown",
   "id": "c7d6dd5c",
   "metadata": {},
   "source": [
    "<hr/>"
   ]
  },
  {
   "cell_type": "markdown",
   "id": "4cdb3c46",
   "metadata": {},
   "source": [
    "## Implicit Type Conversion\n",
    "\n",
    "> Automatic conversion from one data type to another data type as result of an operation.\n",
    "\n",
    "Python always converts _\"smaller\"_ data types to _\"larger\"_ data types to avoid the loss of information.\n"
   ]
  },
  {
   "cell_type": "code",
   "execution_count": null,
   "id": "3be1fc43",
   "metadata": {},
   "outputs": [],
   "source": [
    "integer_part = 21\n",
    "fractional_part = 0.03\n",
    "\n",
    "print(\"Datatype of integer_part:\", type(integer_part))\n",
    "print(\"Datatype of fractional_part:\", type(fractional_part))\n",
    "\n",
    "new_number = integer_part + fractional_part\n",
    "\n",
    "print(\"Value of new_number:\",new_number)\n",
    "print(\"Datatype of new_number:\",type(new_number))\n",
    "\n",
    "print(\"Datatype of integer_part:\", type(integer_part))"
   ]
  },
  {
   "cell_type": "code",
   "execution_count": null,
   "id": "04c345b2",
   "metadata": {},
   "outputs": [],
   "source": [
    "integer_part = \"21\"\n",
    "fractional_part = \"0.03\"\n",
    "\n",
    "new_number = integer_part + fractional_part\n",
    "\n",
    "print(\"Datatype of integer_part:\", type(integer_part))\n",
    "print(\"Datatype of fractional_part:\", type(fractional_part))\n",
    "\n",
    "print(\"Value of new_number:\",new_number)\n",
    "print(\"Datatype of new_number:\",type(new_number))"
   ]
  }
 ],
 "metadata": {
  "kernelspec": {
   "display_name": "Python 3 (ipykernel)",
   "language": "python",
   "name": "python3"
  },
  "language_info": {
   "codemirror_mode": {
    "name": "ipython",
    "version": 3
   },
   "file_extension": ".py",
   "mimetype": "text/x-python",
   "name": "python",
   "nbconvert_exporter": "python",
   "pygments_lexer": "ipython3",
   "version": "3.9.12"
  }
 },
 "nbformat": 4,
 "nbformat_minor": 5
}
